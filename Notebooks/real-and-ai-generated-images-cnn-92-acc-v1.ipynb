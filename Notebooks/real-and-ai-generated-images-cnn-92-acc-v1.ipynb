{
 "cells": [
  {
   "cell_type": "markdown",
   "id": "418c3dec",
   "metadata": {
    "papermill": {
     "duration": 0.014238,
     "end_time": "2024-01-02T16:24:14.528218",
     "exception": false,
     "start_time": "2024-01-02T16:24:14.513980",
     "status": "completed"
    },
    "tags": []
   },
   "source": [
    "## Basic Libraries"
   ]
  },
  {
   "cell_type": "code",
   "execution_count": 1,
   "id": "2e3a2f01",
   "metadata": {
    "execution": {
     "iopub.execute_input": "2024-01-02T16:24:14.556868Z",
     "iopub.status.busy": "2024-01-02T16:24:14.556469Z",
     "iopub.status.idle": "2024-01-02T16:24:14.568672Z",
     "shell.execute_reply": "2024-01-02T16:24:14.567744Z"
    },
    "papermill": {
     "duration": 0.029538,
     "end_time": "2024-01-02T16:24:14.571311",
     "exception": false,
     "start_time": "2024-01-02T16:24:14.541773",
     "status": "completed"
    },
    "tags": []
   },
   "outputs": [],
   "source": [
    "import pandas as pd\n",
    "import numpy as np"
   ]
  },
  {
   "cell_type": "markdown",
   "id": "52111f7c",
   "metadata": {
    "papermill": {
     "duration": 0.013584,
     "end_time": "2024-01-02T16:24:14.598583",
     "exception": false,
     "start_time": "2024-01-02T16:24:14.584999",
     "status": "completed"
    },
    "tags": []
   },
   "source": [
    "## Libraries for Image "
   ]
  },
  {
   "cell_type": "code",
   "execution_count": 2,
   "id": "d646e446",
   "metadata": {
    "execution": {
     "iopub.execute_input": "2024-01-02T16:24:14.627175Z",
     "iopub.status.busy": "2024-01-02T16:24:14.626414Z",
     "iopub.status.idle": "2024-01-02T16:24:14.810929Z",
     "shell.execute_reply": "2024-01-02T16:24:14.809786Z"
    },
    "papermill": {
     "duration": 0.202047,
     "end_time": "2024-01-02T16:24:14.813791",
     "exception": false,
     "start_time": "2024-01-02T16:24:14.611744",
     "status": "completed"
    },
    "tags": []
   },
   "outputs": [],
   "source": [
    "import cv2\n",
    "import PIL"
   ]
  },
  {
   "cell_type": "code",
   "execution_count": 3,
   "id": "519a8d6a",
   "metadata": {
    "execution": {
     "iopub.execute_input": "2024-01-02T16:24:14.843037Z",
     "iopub.status.busy": "2024-01-02T16:24:14.842638Z",
     "iopub.status.idle": "2024-01-02T16:24:14.882043Z",
     "shell.execute_reply": "2024-01-02T16:24:14.880994Z"
    },
    "papermill": {
     "duration": 0.057373,
     "end_time": "2024-01-02T16:24:14.884835",
     "exception": false,
     "start_time": "2024-01-02T16:24:14.827462",
     "status": "completed"
    },
    "tags": []
   },
   "outputs": [
    {
     "data": {
      "image/png": "[encoded data removed]",
      "text/plain": [
       "<PIL.JpegImagePlugin.JpegImageFile image mode=RGB size=32x32>"
      ]
     },
     "execution_count": 3,
     "metadata": {},
     "output_type": "execute_result"
    }
   ],
   "source": [
    "PIL.Image.open('/kaggle/input/cifake-real-and-ai-generated-synthetic-images/train/FAKE/5999.jpg')\n"
   ]
  },
  {
   "cell_type": "code",
   "execution_count": 4,
   "id": "7cb41160",
   "metadata": {
    "execution": {
     "iopub.execute_input": "2024-01-02T16:24:14.914295Z",
     "iopub.status.busy": "2024-01-02T16:24:14.913235Z",
     "iopub.status.idle": "2024-01-02T16:24:14.935533Z",
     "shell.execute_reply": "2024-01-02T16:24:14.934730Z"
    },
    "papermill": {
     "duration": 0.039262,
     "end_time": "2024-01-02T16:24:14.937665",
     "exception": false,
     "start_time": "2024-01-02T16:24:14.898403",
     "status": "completed"
    },
    "tags": []
   },
   "outputs": [
    {
     "data": {
      "text/plain": [
       "(32, 32, 3)"
      ]
     },
     "execution_count": 4,
     "metadata": {},
     "output_type": "execute_result"
    }
   ],
   "source": [
    "image = cv2.imread('/kaggle/input/cifake-real-and-ai-generated-synthetic-images/train/FAKE/5999.jpg')\n",
    "image.shape"
   ]
  },
  {
   "cell_type": "markdown",
   "id": "32c8f9ab",
   "metadata": {
    "papermill": {
     "duration": 0.013409,
     "end_time": "2024-01-02T16:24:14.964639",
     "exception": false,
     "start_time": "2024-01-02T16:24:14.951230",
     "status": "completed"
    },
    "tags": []
   },
   "source": [
    "## **TRAIN DATAFRAME**"
   ]
  },
  {
   "cell_type": "markdown",
   "id": "0ca84662",
   "metadata": {
    "papermill": {
     "duration": 0.013359,
     "end_time": "2024-01-02T16:24:14.991593",
     "exception": false,
     "start_time": "2024-01-02T16:24:14.978234",
     "status": "completed"
    },
    "tags": []
   },
   "source": [
    "## Creating Training Dataframe for **\"Fake Image\"**"
   ]
  },
  {
   "cell_type": "code",
   "execution_count": 5,
   "id": "fd7e3d0d",
   "metadata": {
    "execution": {
     "iopub.execute_input": "2024-01-02T16:24:15.020959Z",
     "iopub.status.busy": "2024-01-02T16:24:15.020255Z",
     "iopub.status.idle": "2024-01-02T16:24:15.076918Z",
     "shell.execute_reply": "2024-01-02T16:24:15.076144Z"
    },
    "papermill": {
     "duration": 0.073967,
     "end_time": "2024-01-02T16:24:15.079093",
     "exception": false,
     "start_time": "2024-01-02T16:24:15.005126",
     "status": "completed"
    },
    "tags": []
   },
   "outputs": [
    {
     "data": {
      "text/plain": [
       "50000"
      ]
     },
     "execution_count": 5,
     "metadata": {},
     "output_type": "execute_result"
    }
   ],
   "source": [
    "train_path_fake =[]\n",
    "\n",
    "base_1 = '/kaggle/input/cifake-real-and-ai-generated-synthetic-images/train/FAKE/'\n",
    "\n",
    "for i in range(1000,6000):\n",
    "    a = '{}{}.jpg'.format(base_1, i)\n",
    "    train_path_fake.append(a)\n",
    "\n",
    "for i in range(1000,6000):\n",
    "    for j in range(2,11):\n",
    "        b = '{}{} ({}).jpg'.format(base_1, i, j)\n",
    "        train_path_fake.append(b)\n",
    "len(train_path_fake)\n"
   ]
  },
  {
   "cell_type": "code",
   "execution_count": 6,
   "id": "cbc13065",
   "metadata": {
    "execution": {
     "iopub.execute_input": "2024-01-02T16:24:15.108529Z",
     "iopub.status.busy": "2024-01-02T16:24:15.108098Z",
     "iopub.status.idle": "2024-01-02T16:24:15.150713Z",
     "shell.execute_reply": "2024-01-02T16:24:15.149578Z"
    },
    "papermill": {
     "duration": 0.060223,
     "end_time": "2024-01-02T16:24:15.153107",
     "exception": false,
     "start_time": "2024-01-02T16:24:15.092884",
     "status": "completed"
    },
    "tags": []
   },
   "outputs": [
    {
     "data": {
      "text/html": [
       "<div>\n",
       "<style scoped>\n",
       "    .dataframe tbody tr th:only-of-type {\n",
       "        vertical-align: middle;\n",
       "    }\n",
       "\n",
       "    .dataframe tbody tr th {\n",
       "        vertical-align: top;\n",
       "    }\n",
       "\n",
       "    .dataframe thead th {\n",
       "        text-align: right;\n",
       "    }\n",
       "</style>\n",
       "<table border=\"1\" class=\"dataframe\">\n",
       "  <thead>\n",
       "    <tr style=\"text-align: right;\">\n",
       "      <th></th>\n",
       "      <th>path</th>\n",
       "      <th>label</th>\n",
       "    </tr>\n",
       "  </thead>\n",
       "  <tbody>\n",
       "    <tr>\n",
       "      <th>0</th>\n",
       "      <td>/kaggle/input/cifake-real-and-ai-generated-syn...</td>\n",
       "      <td>0</td>\n",
       "    </tr>\n",
       "    <tr>\n",
       "      <th>1</th>\n",
       "      <td>/kaggle/input/cifake-real-and-ai-generated-syn...</td>\n",
       "      <td>0</td>\n",
       "    </tr>\n",
       "    <tr>\n",
       "      <th>2</th>\n",
       "      <td>/kaggle/input/cifake-real-and-ai-generated-syn...</td>\n",
       "      <td>0</td>\n",
       "    </tr>\n",
       "    <tr>\n",
       "      <th>3</th>\n",
       "      <td>/kaggle/input/cifake-real-and-ai-generated-syn...</td>\n",
       "      <td>0</td>\n",
       "    </tr>\n",
       "    <tr>\n",
       "      <th>4</th>\n",
       "      <td>/kaggle/input/cifake-real-and-ai-generated-syn...</td>\n",
       "      <td>0</td>\n",
       "    </tr>\n",
       "  </tbody>\n",
       "</table>\n",
       "</div>"
      ],
      "text/plain": [
       "                                                path  label\n",
       "0  /kaggle/input/cifake-real-and-ai-generated-syn...      0\n",
       "1  /kaggle/input/cifake-real-and-ai-generated-syn...      0\n",
       "2  /kaggle/input/cifake-real-and-ai-generated-syn...      0\n",
       "3  /kaggle/input/cifake-real-and-ai-generated-syn...      0\n",
       "4  /kaggle/input/cifake-real-and-ai-generated-syn...      0"
      ]
     },
     "execution_count": 6,
     "metadata": {},
     "output_type": "execute_result"
    }
   ],
   "source": [
    "df_train_fake = pd.DataFrame(train_path_fake)\n",
    "df_train_fake.columns = ['path']\n",
    "df_train_fake['label'] = 0\n",
    "df_train_fake.head()"
   ]
  },
  {
   "cell_type": "markdown",
   "id": "020be26f",
   "metadata": {
    "papermill": {
     "duration": 0.013543,
     "end_time": "2024-01-02T16:24:15.180802",
     "exception": false,
     "start_time": "2024-01-02T16:24:15.167259",
     "status": "completed"
    },
    "tags": []
   },
   "source": [
    "## Creating Training Dataframe for **\"Real Image\"**"
   ]
  },
  {
   "cell_type": "code",
   "execution_count": 7,
   "id": "bcb33534",
   "metadata": {
    "execution": {
     "iopub.execute_input": "2024-01-02T16:24:15.210841Z",
     "iopub.status.busy": "2024-01-02T16:24:15.210067Z",
     "iopub.status.idle": "2024-01-02T16:24:15.219221Z",
     "shell.execute_reply": "2024-01-02T16:24:15.218231Z"
    },
    "papermill": {
     "duration": 0.026967,
     "end_time": "2024-01-02T16:24:15.221532",
     "exception": false,
     "start_time": "2024-01-02T16:24:15.194565",
     "status": "completed"
    },
    "tags": []
   },
   "outputs": [
    {
     "data": {
      "text/plain": [
       "100"
      ]
     },
     "execution_count": 7,
     "metadata": {},
     "output_type": "execute_result"
    }
   ],
   "source": [
    "train_path_real=[]\n",
    "\n",
    "base_2 = '/kaggle/input/cifake-real-and-ai-generated-synthetic-images/train/REAL/'\n",
    "\n",
    "for i in range(0,10):\n",
    "    c = '{}000{}.jpg'.format(base_2, i)\n",
    "    train_path_real.append(c)\n",
    "\n",
    "for i in range(0,10):\n",
    "    for j in range(2,11):\n",
    "        d = '{}000{} ({}).jpg'.format(base_2, i,j)\n",
    "        train_path_real.append(d)\n",
    "len(train_path_real)"
   ]
  },
  {
   "cell_type": "code",
   "execution_count": 8,
   "id": "004d6307",
   "metadata": {
    "execution": {
     "iopub.execute_input": "2024-01-02T16:24:15.253241Z",
     "iopub.status.busy": "2024-01-02T16:24:15.252832Z",
     "iopub.status.idle": "2024-01-02T16:24:15.262004Z",
     "shell.execute_reply": "2024-01-02T16:24:15.260932Z"
    },
    "papermill": {
     "duration": 0.027104,
     "end_time": "2024-01-02T16:24:15.264353",
     "exception": false,
     "start_time": "2024-01-02T16:24:15.237249",
     "status": "completed"
    },
    "tags": []
   },
   "outputs": [
    {
     "data": {
      "text/plain": [
       "1000"
      ]
     },
     "execution_count": 8,
     "metadata": {},
     "output_type": "execute_result"
    }
   ],
   "source": [
    "for i in range(10,100):\n",
    "    e = '{}00{}.jpg'.format(base_2, i)\n",
    "    train_path_real.append(e)\n",
    "\n",
    "\n",
    "for i in range(10,100):\n",
    "    for j in range(2,11):\n",
    "        f = '{}00{} ({}).jpg'.format(base_2, i,j)\n",
    "        train_path_real.append(f)\n",
    "len(train_path_real)"
   ]
  },
  {
   "cell_type": "code",
   "execution_count": 9,
   "id": "426f5ef3",
   "metadata": {
    "execution": {
     "iopub.execute_input": "2024-01-02T16:24:15.294577Z",
     "iopub.status.busy": "2024-01-02T16:24:15.294133Z",
     "iopub.status.idle": "2024-01-02T16:24:15.312389Z",
     "shell.execute_reply": "2024-01-02T16:24:15.311429Z"
    },
    "papermill": {
     "duration": 0.035903,
     "end_time": "2024-01-02T16:24:15.314624",
     "exception": false,
     "start_time": "2024-01-02T16:24:15.278721",
     "status": "completed"
    },
    "tags": []
   },
   "outputs": [
    {
     "data": {
      "text/plain": [
       "10000"
      ]
     },
     "execution_count": 9,
     "metadata": {},
     "output_type": "execute_result"
    }
   ],
   "source": [
    "for i in range(100,1000):\n",
    "    g = '{}0{}.jpg'.format(base_2, i)\n",
    "    train_path_real.append(g)\n",
    "\n",
    "for i in range(100,1000):\n",
    "    for j in range(2,11):\n",
    "        h = '{}0{} ({}).jpg'.format(base_2, i,j)\n",
    "        train_path_real.append(h)\n",
    "len(train_path_real)"
   ]
  },
  {
   "cell_type": "code",
   "execution_count": 10,
   "id": "75ad761b",
   "metadata": {
    "execution": {
     "iopub.execute_input": "2024-01-02T16:24:15.345205Z",
     "iopub.status.busy": "2024-01-02T16:24:15.344833Z",
     "iopub.status.idle": "2024-01-02T16:24:15.392817Z",
     "shell.execute_reply": "2024-01-02T16:24:15.392017Z"
    },
    "papermill": {
     "duration": 0.065738,
     "end_time": "2024-01-02T16:24:15.394969",
     "exception": false,
     "start_time": "2024-01-02T16:24:15.329231",
     "status": "completed"
    },
    "tags": []
   },
   "outputs": [
    {
     "data": {
      "text/plain": [
       "50000"
      ]
     },
     "execution_count": 10,
     "metadata": {},
     "output_type": "execute_result"
    }
   ],
   "source": [
    "\n",
    "for i in range(1000,5000):\n",
    "    k = '{}{}.jpg'.format(base_2, i)\n",
    "    train_path_real.append(k)\n",
    "\n",
    "for i in range(1000,5000):\n",
    "    for j in range(2,11):\n",
    "        l = '{}{} ({}).jpg'.format(base_2, i,j)\n",
    "        train_path_real.append(l)\n",
    "len(train_path_real)\n"
   ]
  },
  {
   "cell_type": "code",
   "execution_count": 11,
   "id": "b5b7c8ad",
   "metadata": {
    "execution": {
     "iopub.execute_input": "2024-01-02T16:24:15.426055Z",
     "iopub.status.busy": "2024-01-02T16:24:15.425664Z",
     "iopub.status.idle": "2024-01-02T16:24:15.440321Z",
     "shell.execute_reply": "2024-01-02T16:24:15.439589Z"
    },
    "papermill": {
     "duration": 0.032743,
     "end_time": "2024-01-02T16:24:15.442439",
     "exception": false,
     "start_time": "2024-01-02T16:24:15.409696",
     "status": "completed"
    },
    "tags": []
   },
   "outputs": [
    {
     "data": {
      "text/html": [
       "<div>\n",
       "<style scoped>\n",
       "    .dataframe tbody tr th:only-of-type {\n",
       "        vertical-align: middle;\n",
       "    }\n",
       "\n",
       "    .dataframe tbody tr th {\n",
       "        vertical-align: top;\n",
       "    }\n",
       "\n",
       "    .dataframe thead th {\n",
       "        text-align: right;\n",
       "    }\n",
       "</style>\n",
       "<table border=\"1\" class=\"dataframe\">\n",
       "  <thead>\n",
       "    <tr style=\"text-align: right;\">\n",
       "      <th></th>\n",
       "      <th>path</th>\n",
       "      <th>label</th>\n",
       "    </tr>\n",
       "  </thead>\n",
       "  <tbody>\n",
       "    <tr>\n",
       "      <th>0</th>\n",
       "      <td>/kaggle/input/cifake-real-and-ai-generated-syn...</td>\n",
       "      <td>1</td>\n",
       "    </tr>\n",
       "    <tr>\n",
       "      <th>1</th>\n",
       "      <td>/kaggle/input/cifake-real-and-ai-generated-syn...</td>\n",
       "      <td>1</td>\n",
       "    </tr>\n",
       "    <tr>\n",
       "      <th>2</th>\n",
       "      <td>/kaggle/input/cifake-real-and-ai-generated-syn...</td>\n",
       "      <td>1</td>\n",
       "    </tr>\n",
       "    <tr>\n",
       "      <th>3</th>\n",
       "      <td>/kaggle/input/cifake-real-and-ai-generated-syn...</td>\n",
       "      <td>1</td>\n",
       "    </tr>\n",
       "    <tr>\n",
       "      <th>4</th>\n",
       "      <td>/kaggle/input/cifake-real-and-ai-generated-syn...</td>\n",
       "      <td>1</td>\n",
       "    </tr>\n",
       "  </tbody>\n",
       "</table>\n",
       "</div>"
      ],
      "text/plain": [
       "                                                path  label\n",
       "0  /kaggle/input/cifake-real-and-ai-generated-syn...      1\n",
       "1  /kaggle/input/cifake-real-and-ai-generated-syn...      1\n",
       "2  /kaggle/input/cifake-real-and-ai-generated-syn...      1\n",
       "3  /kaggle/input/cifake-real-and-ai-generated-syn...      1\n",
       "4  /kaggle/input/cifake-real-and-ai-generated-syn...      1"
      ]
     },
     "execution_count": 11,
     "metadata": {},
     "output_type": "execute_result"
    }
   ],
   "source": [
    "df_train_real = pd.DataFrame(train_path_real)\n",
    "df_train_real.columns = ['path']\n",
    "df_train_real['label'] = 1\n",
    "df_train_real.head()"
   ]
  },
  {
   "cell_type": "markdown",
   "id": "78b72c2d",
   "metadata": {
    "papermill": {
     "duration": 0.014539,
     "end_time": "2024-01-02T16:24:15.471773",
     "exception": false,
     "start_time": "2024-01-02T16:24:15.457234",
     "status": "completed"
    },
    "tags": []
   },
   "source": [
    "## Using **\"concat\"** to create  **\"df_train\"**"
   ]
  },
  {
   "cell_type": "code",
   "execution_count": 12,
   "id": "d1b837d6",
   "metadata": {
    "execution": {
     "iopub.execute_input": "2024-01-02T16:24:15.503792Z",
     "iopub.status.busy": "2024-01-02T16:24:15.502970Z",
     "iopub.status.idle": "2024-01-02T16:24:15.526305Z",
     "shell.execute_reply": "2024-01-02T16:24:15.525510Z"
    },
    "papermill": {
     "duration": 0.04135,
     "end_time": "2024-01-02T16:24:15.528447",
     "exception": false,
     "start_time": "2024-01-02T16:24:15.487097",
     "status": "completed"
    },
    "tags": []
   },
   "outputs": [
    {
     "name": "stdout",
     "output_type": "stream",
     "text": [
      "(100000, 2)\n"
     ]
    },
    {
     "data": {
      "text/html": [
       "<div>\n",
       "<style scoped>\n",
       "    .dataframe tbody tr th:only-of-type {\n",
       "        vertical-align: middle;\n",
       "    }\n",
       "\n",
       "    .dataframe tbody tr th {\n",
       "        vertical-align: top;\n",
       "    }\n",
       "\n",
       "    .dataframe thead th {\n",
       "        text-align: right;\n",
       "    }\n",
       "</style>\n",
       "<table border=\"1\" class=\"dataframe\">\n",
       "  <thead>\n",
       "    <tr style=\"text-align: right;\">\n",
       "      <th></th>\n",
       "      <th>path</th>\n",
       "      <th>label</th>\n",
       "    </tr>\n",
       "  </thead>\n",
       "  <tbody>\n",
       "    <tr>\n",
       "      <th>5459</th>\n",
       "      <td>/kaggle/input/cifake-real-and-ai-generated-syn...</td>\n",
       "      <td>0</td>\n",
       "    </tr>\n",
       "    <tr>\n",
       "      <th>46552</th>\n",
       "      <td>/kaggle/input/cifake-real-and-ai-generated-syn...</td>\n",
       "      <td>0</td>\n",
       "    </tr>\n",
       "    <tr>\n",
       "      <th>25467</th>\n",
       "      <td>/kaggle/input/cifake-real-and-ai-generated-syn...</td>\n",
       "      <td>1</td>\n",
       "    </tr>\n",
       "    <tr>\n",
       "      <th>8916</th>\n",
       "      <td>/kaggle/input/cifake-real-and-ai-generated-syn...</td>\n",
       "      <td>1</td>\n",
       "    </tr>\n",
       "    <tr>\n",
       "      <th>10753</th>\n",
       "      <td>/kaggle/input/cifake-real-and-ai-generated-syn...</td>\n",
       "      <td>0</td>\n",
       "    </tr>\n",
       "  </tbody>\n",
       "</table>\n",
       "</div>"
      ],
      "text/plain": [
       "                                                    path  label\n",
       "5459   /kaggle/input/cifake-real-and-ai-generated-syn...      0\n",
       "46552  /kaggle/input/cifake-real-and-ai-generated-syn...      0\n",
       "25467  /kaggle/input/cifake-real-and-ai-generated-syn...      1\n",
       "8916   /kaggle/input/cifake-real-and-ai-generated-syn...      1\n",
       "10753  /kaggle/input/cifake-real-and-ai-generated-syn...      0"
      ]
     },
     "execution_count": 12,
     "metadata": {},
     "output_type": "execute_result"
    }
   ],
   "source": [
    "df_train = pd.concat((df_train_fake, df_train_real), axis = 0 )\n",
    "print(df_train.shape)\n",
    "df_train.sample(5)\n"
   ]
  },
  {
   "cell_type": "markdown",
   "id": "18668aa4",
   "metadata": {
    "papermill": {
     "duration": 0.014585,
     "end_time": "2024-01-02T16:24:15.558097",
     "exception": false,
     "start_time": "2024-01-02T16:24:15.543512",
     "status": "completed"
    },
    "tags": []
   },
   "source": [
    "## Using **'cv2'** for X_train "
   ]
  },
  {
   "cell_type": "code",
   "execution_count": 13,
   "id": "2fe35e29",
   "metadata": {
    "execution": {
     "iopub.execute_input": "2024-01-02T16:24:15.590211Z",
     "iopub.status.busy": "2024-01-02T16:24:15.589500Z",
     "iopub.status.idle": "2024-01-02T16:37:51.492638Z",
     "shell.execute_reply": "2024-01-02T16:37:51.491454Z"
    },
    "papermill": {
     "duration": 815.937615,
     "end_time": "2024-01-02T16:37:51.510625",
     "exception": false,
     "start_time": "2024-01-02T16:24:15.573010",
     "status": "completed"
    },
    "tags": []
   },
   "outputs": [
    {
     "data": {
      "text/plain": [
       "4"
      ]
     },
     "execution_count": 13,
     "metadata": {},
     "output_type": "execute_result"
    }
   ],
   "source": [
    "image_df = []\n",
    "for image in df_train['path']:\n",
    "    img = cv2.imread(image)\n",
    "    resized = cv2.resize(img,(32,32))\n",
    "    image_df.append(resized)\n",
    "image_array = np.array(image_df)\n",
    "X_train = image_array/255\n",
    "X_train.ndim"
   ]
  },
  {
   "cell_type": "code",
   "execution_count": 14,
   "id": "15a6d61e",
   "metadata": {
    "execution": {
     "iopub.execute_input": "2024-01-02T16:37:51.542816Z",
     "iopub.status.busy": "2024-01-02T16:37:51.542431Z",
     "iopub.status.idle": "2024-01-02T16:37:51.549858Z",
     "shell.execute_reply": "2024-01-02T16:37:51.549138Z"
    },
    "papermill": {
     "duration": 0.026326,
     "end_time": "2024-01-02T16:37:51.551935",
     "exception": false,
     "start_time": "2024-01-02T16:37:51.525609",
     "status": "completed"
    },
    "tags": []
   },
   "outputs": [
    {
     "data": {
      "text/plain": [
       "0    0\n",
       "1    0\n",
       "2    0\n",
       "3    0\n",
       "4    0\n",
       "Name: label, dtype: int64"
      ]
     },
     "execution_count": 14,
     "metadata": {},
     "output_type": "execute_result"
    }
   ],
   "source": [
    "y_train = df_train['label']\n",
    "y_train.head()"
   ]
  },
  {
   "cell_type": "markdown",
   "id": "80194ac6",
   "metadata": {
    "papermill": {
     "duration": 0.014948,
     "end_time": "2024-01-02T16:37:51.582216",
     "exception": false,
     "start_time": "2024-01-02T16:37:51.567268",
     "status": "completed"
    },
    "tags": []
   },
   "source": [
    "## **TEST DATAFRAME**"
   ]
  },
  {
   "cell_type": "markdown",
   "id": "c527f0da",
   "metadata": {
    "papermill": {
     "duration": 0.014792,
     "end_time": "2024-01-02T16:37:51.612969",
     "exception": false,
     "start_time": "2024-01-02T16:37:51.598177",
     "status": "completed"
    },
    "tags": []
   },
   "source": [
    "## Creating Testing Dataframe for **\"Fake Image\"**"
   ]
  },
  {
   "cell_type": "code",
   "execution_count": 15,
   "id": "10367e3e",
   "metadata": {
    "execution": {
     "iopub.execute_input": "2024-01-02T16:37:51.645564Z",
     "iopub.status.busy": "2024-01-02T16:37:51.644483Z",
     "iopub.status.idle": "2024-01-02T16:37:51.667010Z",
     "shell.execute_reply": "2024-01-02T16:37:51.665920Z"
    },
    "papermill": {
     "duration": 0.041254,
     "end_time": "2024-01-02T16:37:51.669297",
     "exception": false,
     "start_time": "2024-01-02T16:37:51.628043",
     "status": "completed"
    },
    "tags": []
   },
   "outputs": [
    {
     "data": {
      "text/plain": [
       "10000"
      ]
     },
     "execution_count": 15,
     "metadata": {},
     "output_type": "execute_result"
    }
   ],
   "source": [
    "test_path_fake =[]\n",
    "\n",
    "base_3 = '/kaggle/input/cifake-real-and-ai-generated-synthetic-images/test/FAKE/'\n",
    "\n",
    "for i in range(0,1000):\n",
    "    m = '{}{}.jpg'.format(base_3, i)\n",
    "    test_path_fake.append(m)\n",
    "    \n",
    "for i in range(0,1000):\n",
    "    for j in range(2,11):\n",
    "        n = '{}{} ({}).jpg'.format(base_3, i, j)\n",
    "        test_path_fake.append(n)\n",
    "len(test_path_fake)\n"
   ]
  },
  {
   "cell_type": "code",
   "execution_count": 16,
   "id": "4a6e52cf",
   "metadata": {
    "execution": {
     "iopub.execute_input": "2024-01-02T16:37:51.702782Z",
     "iopub.status.busy": "2024-01-02T16:37:51.701837Z",
     "iopub.status.idle": "2024-01-02T16:37:51.714434Z",
     "shell.execute_reply": "2024-01-02T16:37:51.713384Z"
    },
    "papermill": {
     "duration": 0.031627,
     "end_time": "2024-01-02T16:37:51.716520",
     "exception": false,
     "start_time": "2024-01-02T16:37:51.684893",
     "status": "completed"
    },
    "tags": []
   },
   "outputs": [
    {
     "data": {
      "text/html": [
       "<div>\n",
       "<style scoped>\n",
       "    .dataframe tbody tr th:only-of-type {\n",
       "        vertical-align: middle;\n",
       "    }\n",
       "\n",
       "    .dataframe tbody tr th {\n",
       "        vertical-align: top;\n",
       "    }\n",
       "\n",
       "    .dataframe thead th {\n",
       "        text-align: right;\n",
       "    }\n",
       "</style>\n",
       "<table border=\"1\" class=\"dataframe\">\n",
       "  <thead>\n",
       "    <tr style=\"text-align: right;\">\n",
       "      <th></th>\n",
       "      <th>path</th>\n",
       "      <th>label</th>\n",
       "    </tr>\n",
       "  </thead>\n",
       "  <tbody>\n",
       "    <tr>\n",
       "      <th>0</th>\n",
       "      <td>/kaggle/input/cifake-real-and-ai-generated-syn...</td>\n",
       "      <td>0</td>\n",
       "    </tr>\n",
       "    <tr>\n",
       "      <th>1</th>\n",
       "      <td>/kaggle/input/cifake-real-and-ai-generated-syn...</td>\n",
       "      <td>0</td>\n",
       "    </tr>\n",
       "    <tr>\n",
       "      <th>2</th>\n",
       "      <td>/kaggle/input/cifake-real-and-ai-generated-syn...</td>\n",
       "      <td>0</td>\n",
       "    </tr>\n",
       "    <tr>\n",
       "      <th>3</th>\n",
       "      <td>/kaggle/input/cifake-real-and-ai-generated-syn...</td>\n",
       "      <td>0</td>\n",
       "    </tr>\n",
       "    <tr>\n",
       "      <th>4</th>\n",
       "      <td>/kaggle/input/cifake-real-and-ai-generated-syn...</td>\n",
       "      <td>0</td>\n",
       "    </tr>\n",
       "  </tbody>\n",
       "</table>\n",
       "</div>"
      ],
      "text/plain": [
       "                                                path  label\n",
       "0  /kaggle/input/cifake-real-and-ai-generated-syn...      0\n",
       "1  /kaggle/input/cifake-real-and-ai-generated-syn...      0\n",
       "2  /kaggle/input/cifake-real-and-ai-generated-syn...      0\n",
       "3  /kaggle/input/cifake-real-and-ai-generated-syn...      0\n",
       "4  /kaggle/input/cifake-real-and-ai-generated-syn...      0"
      ]
     },
     "execution_count": 16,
     "metadata": {},
     "output_type": "execute_result"
    }
   ],
   "source": [
    "df_test_fake = pd.DataFrame(test_path_fake)\n",
    "df_test_fake.columns = ['path']\n",
    "df_test_fake['label'] = 0\n",
    "df_test_fake.head()"
   ]
  },
  {
   "cell_type": "markdown",
   "id": "c265c19e",
   "metadata": {
    "papermill": {
     "duration": 0.015149,
     "end_time": "2024-01-02T16:37:51.747762",
     "exception": false,
     "start_time": "2024-01-02T16:37:51.732613",
     "status": "completed"
    },
    "tags": []
   },
   "source": [
    "## Creating Testing Dataframe for **\"Real Image\"**"
   ]
  },
  {
   "cell_type": "code",
   "execution_count": 17,
   "id": "420ab794",
   "metadata": {
    "execution": {
     "iopub.execute_input": "2024-01-02T16:37:51.780927Z",
     "iopub.status.busy": "2024-01-02T16:37:51.779947Z",
     "iopub.status.idle": "2024-01-02T16:37:51.788975Z",
     "shell.execute_reply": "2024-01-02T16:37:51.787939Z"
    },
    "papermill": {
     "duration": 0.027853,
     "end_time": "2024-01-02T16:37:51.791003",
     "exception": false,
     "start_time": "2024-01-02T16:37:51.763150",
     "status": "completed"
    },
    "tags": []
   },
   "outputs": [
    {
     "data": {
      "text/plain": [
       "100"
      ]
     },
     "execution_count": 17,
     "metadata": {},
     "output_type": "execute_result"
    }
   ],
   "source": [
    "test_path_real =[]\n",
    "\n",
    "base_4 = '/kaggle/input/cifake-real-and-ai-generated-synthetic-images/test/REAL/'\n",
    "\n",
    "for i in range(0,10):\n",
    "    o = '{}000{}.jpg'.format(base_4, i)\n",
    "    test_path_real.append(o)\n",
    "\n",
    "for i in range(0,10):\n",
    "    for j in range(2,11):\n",
    "        p = '{}000{} ({}).jpg'.format(base_4, i,j)\n",
    "        test_path_real.append(p)\n",
    "len(test_path_real)\n"
   ]
  },
  {
   "cell_type": "code",
   "execution_count": 18,
   "id": "984ad9b8",
   "metadata": {
    "execution": {
     "iopub.execute_input": "2024-01-02T16:37:51.824292Z",
     "iopub.status.busy": "2024-01-02T16:37:51.823699Z",
     "iopub.status.idle": "2024-01-02T16:37:51.833062Z",
     "shell.execute_reply": "2024-01-02T16:37:51.832104Z"
    },
    "papermill": {
     "duration": 0.028527,
     "end_time": "2024-01-02T16:37:51.835124",
     "exception": false,
     "start_time": "2024-01-02T16:37:51.806597",
     "status": "completed"
    },
    "tags": []
   },
   "outputs": [
    {
     "data": {
      "text/plain": [
       "1000"
      ]
     },
     "execution_count": 18,
     "metadata": {},
     "output_type": "execute_result"
    }
   ],
   "source": [
    "for i in range(10,100):\n",
    "    q = '{}00{}.jpg'.format(base_4, i)\n",
    "    test_path_real.append(q)\n",
    "\n",
    "for i in range(10,100):\n",
    "    for j in range(2,11):\n",
    "        r = '{}00{} ({}).jpg'.format(base_4, i,j)\n",
    "        test_path_real.append(r)\n",
    "len(test_path_real) \n"
   ]
  },
  {
   "cell_type": "code",
   "execution_count": 19,
   "id": "536230f2",
   "metadata": {
    "execution": {
     "iopub.execute_input": "2024-01-02T16:37:51.869281Z",
     "iopub.status.busy": "2024-01-02T16:37:51.868655Z",
     "iopub.status.idle": "2024-01-02T16:37:51.885828Z",
     "shell.execute_reply": "2024-01-02T16:37:51.884738Z"
    },
    "papermill": {
     "duration": 0.037144,
     "end_time": "2024-01-02T16:37:51.888287",
     "exception": false,
     "start_time": "2024-01-02T16:37:51.851143",
     "status": "completed"
    },
    "tags": []
   },
   "outputs": [
    {
     "data": {
      "text/plain": [
       "10000"
      ]
     },
     "execution_count": 19,
     "metadata": {},
     "output_type": "execute_result"
    }
   ],
   "source": [
    "for i in range(100,1000):\n",
    "    s = '{}0{}.jpg'.format(base_4, i)\n",
    "    test_path_real.append(s)\n",
    "    \n",
    "for i in range(100,1000):\n",
    "    for j in range(2,11):\n",
    "        t = '{}0{} ({}).jpg'.format(base_4, i,j)\n",
    "        test_path_real.append(t)\n",
    "len(test_path_real)"
   ]
  },
  {
   "cell_type": "code",
   "execution_count": 20,
   "id": "fc786b9a",
   "metadata": {
    "execution": {
     "iopub.execute_input": "2024-01-02T16:37:51.922840Z",
     "iopub.status.busy": "2024-01-02T16:37:51.922455Z",
     "iopub.status.idle": "2024-01-02T16:37:51.935262Z",
     "shell.execute_reply": "2024-01-02T16:37:51.934278Z"
    },
    "papermill": {
     "duration": 0.032456,
     "end_time": "2024-01-02T16:37:51.937375",
     "exception": false,
     "start_time": "2024-01-02T16:37:51.904919",
     "status": "completed"
    },
    "tags": []
   },
   "outputs": [
    {
     "data": {
      "text/html": [
       "<div>\n",
       "<style scoped>\n",
       "    .dataframe tbody tr th:only-of-type {\n",
       "        vertical-align: middle;\n",
       "    }\n",
       "\n",
       "    .dataframe tbody tr th {\n",
       "        vertical-align: top;\n",
       "    }\n",
       "\n",
       "    .dataframe thead th {\n",
       "        text-align: right;\n",
       "    }\n",
       "</style>\n",
       "<table border=\"1\" class=\"dataframe\">\n",
       "  <thead>\n",
       "    <tr style=\"text-align: right;\">\n",
       "      <th></th>\n",
       "      <th>path</th>\n",
       "      <th>label</th>\n",
       "    </tr>\n",
       "  </thead>\n",
       "  <tbody>\n",
       "    <tr>\n",
       "      <th>0</th>\n",
       "      <td>/kaggle/input/cifake-real-and-ai-generated-syn...</td>\n",
       "      <td>1</td>\n",
       "    </tr>\n",
       "    <tr>\n",
       "      <th>1</th>\n",
       "      <td>/kaggle/input/cifake-real-and-ai-generated-syn...</td>\n",
       "      <td>1</td>\n",
       "    </tr>\n",
       "    <tr>\n",
       "      <th>2</th>\n",
       "      <td>/kaggle/input/cifake-real-and-ai-generated-syn...</td>\n",
       "      <td>1</td>\n",
       "    </tr>\n",
       "    <tr>\n",
       "      <th>3</th>\n",
       "      <td>/kaggle/input/cifake-real-and-ai-generated-syn...</td>\n",
       "      <td>1</td>\n",
       "    </tr>\n",
       "    <tr>\n",
       "      <th>4</th>\n",
       "      <td>/kaggle/input/cifake-real-and-ai-generated-syn...</td>\n",
       "      <td>1</td>\n",
       "    </tr>\n",
       "  </tbody>\n",
       "</table>\n",
       "</div>"
      ],
      "text/plain": [
       "                                                path  label\n",
       "0  /kaggle/input/cifake-real-and-ai-generated-syn...      1\n",
       "1  /kaggle/input/cifake-real-and-ai-generated-syn...      1\n",
       "2  /kaggle/input/cifake-real-and-ai-generated-syn...      1\n",
       "3  /kaggle/input/cifake-real-and-ai-generated-syn...      1\n",
       "4  /kaggle/input/cifake-real-and-ai-generated-syn...      1"
      ]
     },
     "execution_count": 20,
     "metadata": {},
     "output_type": "execute_result"
    }
   ],
   "source": [
    "df_test_real = pd.DataFrame(test_path_real)\n",
    "df_test_real.columns = ['path']\n",
    "df_test_real['label'] = 1\n",
    "df_test_real.head()"
   ]
  },
  {
   "cell_type": "markdown",
   "id": "a5849464",
   "metadata": {
    "papermill": {
     "duration": 0.015868,
     "end_time": "2024-01-02T16:37:51.969579",
     "exception": false,
     "start_time": "2024-01-02T16:37:51.953711",
     "status": "completed"
    },
    "tags": []
   },
   "source": [
    "## Using **\"concat\"** to create  **\"df_test\"**"
   ]
  },
  {
   "cell_type": "code",
   "execution_count": 21,
   "id": "ac1748af",
   "metadata": {
    "execution": {
     "iopub.execute_input": "2024-01-02T16:37:52.004012Z",
     "iopub.status.busy": "2024-01-02T16:37:52.002945Z",
     "iopub.status.idle": "2024-01-02T16:37:52.016695Z",
     "shell.execute_reply": "2024-01-02T16:37:52.015662Z"
    },
    "papermill": {
     "duration": 0.03311,
     "end_time": "2024-01-02T16:37:52.018794",
     "exception": false,
     "start_time": "2024-01-02T16:37:51.985684",
     "status": "completed"
    },
    "tags": []
   },
   "outputs": [
    {
     "name": "stdout",
     "output_type": "stream",
     "text": [
      "(20000, 2)\n"
     ]
    },
    {
     "data": {
      "text/html": [
       "<div>\n",
       "<style scoped>\n",
       "    .dataframe tbody tr th:only-of-type {\n",
       "        vertical-align: middle;\n",
       "    }\n",
       "\n",
       "    .dataframe tbody tr th {\n",
       "        vertical-align: top;\n",
       "    }\n",
       "\n",
       "    .dataframe thead th {\n",
       "        text-align: right;\n",
       "    }\n",
       "</style>\n",
       "<table border=\"1\" class=\"dataframe\">\n",
       "  <thead>\n",
       "    <tr style=\"text-align: right;\">\n",
       "      <th></th>\n",
       "      <th>path</th>\n",
       "      <th>label</th>\n",
       "    </tr>\n",
       "  </thead>\n",
       "  <tbody>\n",
       "    <tr>\n",
       "      <th>4834</th>\n",
       "      <td>/kaggle/input/cifake-real-and-ai-generated-syn...</td>\n",
       "      <td>1</td>\n",
       "    </tr>\n",
       "    <tr>\n",
       "      <th>6683</th>\n",
       "      <td>/kaggle/input/cifake-real-and-ai-generated-syn...</td>\n",
       "      <td>0</td>\n",
       "    </tr>\n",
       "    <tr>\n",
       "      <th>8123</th>\n",
       "      <td>/kaggle/input/cifake-real-and-ai-generated-syn...</td>\n",
       "      <td>0</td>\n",
       "    </tr>\n",
       "    <tr>\n",
       "      <th>5112</th>\n",
       "      <td>/kaggle/input/cifake-real-and-ai-generated-syn...</td>\n",
       "      <td>0</td>\n",
       "    </tr>\n",
       "    <tr>\n",
       "      <th>8703</th>\n",
       "      <td>/kaggle/input/cifake-real-and-ai-generated-syn...</td>\n",
       "      <td>0</td>\n",
       "    </tr>\n",
       "  </tbody>\n",
       "</table>\n",
       "</div>"
      ],
      "text/plain": [
       "                                                   path  label\n",
       "4834  /kaggle/input/cifake-real-and-ai-generated-syn...      1\n",
       "6683  /kaggle/input/cifake-real-and-ai-generated-syn...      0\n",
       "8123  /kaggle/input/cifake-real-and-ai-generated-syn...      0\n",
       "5112  /kaggle/input/cifake-real-and-ai-generated-syn...      0\n",
       "8703  /kaggle/input/cifake-real-and-ai-generated-syn...      0"
      ]
     },
     "execution_count": 21,
     "metadata": {},
     "output_type": "execute_result"
    }
   ],
   "source": [
    "df_test = pd.concat((df_test_fake, df_test_real), axis = 0 )\n",
    "print(df_test.shape)\n",
    "df_test.sample(5)\n"
   ]
  },
  {
   "cell_type": "markdown",
   "id": "99a9df73",
   "metadata": {
    "papermill": {
     "duration": 0.016336,
     "end_time": "2024-01-02T16:37:52.052083",
     "exception": false,
     "start_time": "2024-01-02T16:37:52.035747",
     "status": "completed"
    },
    "tags": []
   },
   "source": [
    "## Using **\"cv2\"** to create X_test"
   ]
  },
  {
   "cell_type": "code",
   "execution_count": 22,
   "id": "502ec670",
   "metadata": {
    "execution": {
     "iopub.execute_input": "2024-01-02T16:37:52.087101Z",
     "iopub.status.busy": "2024-01-02T16:37:52.086632Z",
     "iopub.status.idle": "2024-01-02T16:40:32.609745Z",
     "shell.execute_reply": "2024-01-02T16:40:32.608665Z"
    },
    "papermill": {
     "duration": 160.560228,
     "end_time": "2024-01-02T16:40:32.628828",
     "exception": false,
     "start_time": "2024-01-02T16:37:52.068600",
     "status": "completed"
    },
    "tags": []
   },
   "outputs": [
    {
     "data": {
      "text/plain": [
       "4"
      ]
     },
     "execution_count": 22,
     "metadata": {},
     "output_type": "execute_result"
    }
   ],
   "source": [
    "image_ds = []\n",
    "for image in df_test['path']:\n",
    "    imge = cv2.imread(image)\n",
    "    resize = cv2.resize(imge,(32,32))\n",
    "    image_ds.append(resize)\n",
    "image_arry = np.array(image_ds)\n",
    "X_test = image_arry/255\n",
    "X_test.ndim"
   ]
  },
  {
   "cell_type": "code",
   "execution_count": 23,
   "id": "492f794d",
   "metadata": {
    "execution": {
     "iopub.execute_input": "2024-01-02T16:40:32.665793Z",
     "iopub.status.busy": "2024-01-02T16:40:32.664781Z",
     "iopub.status.idle": "2024-01-02T16:40:32.673117Z",
     "shell.execute_reply": "2024-01-02T16:40:32.671945Z"
    },
    "papermill": {
     "duration": 0.02957,
     "end_time": "2024-01-02T16:40:32.675197",
     "exception": false,
     "start_time": "2024-01-02T16:40:32.645627",
     "status": "completed"
    },
    "tags": []
   },
   "outputs": [
    {
     "data": {
      "text/plain": [
       "0    0\n",
       "1    0\n",
       "2    0\n",
       "3    0\n",
       "4    0\n",
       "Name: label, dtype: int64"
      ]
     },
     "execution_count": 23,
     "metadata": {},
     "output_type": "execute_result"
    }
   ],
   "source": [
    "y_test = df_test['label']\n",
    "y_test.head()"
   ]
  },
  {
   "cell_type": "markdown",
   "id": "c092d207",
   "metadata": {
    "papermill": {
     "duration": 0.016572,
     "end_time": "2024-01-02T16:40:32.708788",
     "exception": false,
     "start_time": "2024-01-02T16:40:32.692216",
     "status": "completed"
    },
    "tags": []
   },
   "source": [
    "## Importing **\"keras\"** for CNN"
   ]
  },
  {
   "cell_type": "code",
   "execution_count": 24,
   "id": "a4f7ae55",
   "metadata": {
    "execution": {
     "iopub.execute_input": "2024-01-02T16:40:32.744278Z",
     "iopub.status.busy": "2024-01-02T16:40:32.743643Z",
     "iopub.status.idle": "2024-01-02T16:50:49.567273Z",
     "shell.execute_reply": "2024-01-02T16:50:49.566394Z"
    },
    "papermill": {
     "duration": 616.844202,
     "end_time": "2024-01-02T16:50:49.569584",
     "exception": false,
     "start_time": "2024-01-02T16:40:32.725382",
     "status": "completed"
    },
    "tags": []
   },
   "outputs": [
    {
     "name": "stderr",
     "output_type": "stream",
     "text": [
      "/opt/conda/lib/python3.10/site-packages/scipy/__init__.py:146: UserWarning: A NumPy version >=1.16.5 and <1.23.0 is required for this version of SciPy (detected version 1.23.5\n",
      "  warnings.warn(f\"A NumPy version >={np_minversion} and <{np_maxversion}\"\n"
     ]
    },
    {
     "name": "stdout",
     "output_type": "stream",
     "text": [
      "Epoch 1/5\n",
      "3125/3125 [==============================] - 123s 39ms/step - loss: 0.3965 - accuracy: 0.8179\n",
      "Epoch 2/5\n",
      "3125/3125 [==============================] - 120s 38ms/step - loss: 0.2704 - accuracy: 0.8881\n",
      "Epoch 3/5\n",
      "3125/3125 [==============================] - 121s 39ms/step - loss: 0.2316 - accuracy: 0.9054\n",
      "Epoch 4/5\n",
      "3125/3125 [==============================] - 121s 39ms/step - loss: 0.2096 - accuracy: 0.9154\n",
      "Epoch 5/5\n",
      "3125/3125 [==============================] - 121s 39ms/step - loss: 0.1956 - accuracy: 0.9219\n"
     ]
    },
    {
     "data": {
      "text/plain": [
       "<keras.callbacks.History at 0x7e46ec73b760>"
      ]
     },
     "execution_count": 24,
     "metadata": {},
     "output_type": "execute_result"
    }
   ],
   "source": [
    "from tensorflow.keras import models , layers\n",
    "\n",
    "model = models.Sequential([\n",
    "    layers.Conv2D(filters = 80 , kernel_size = (3,3),activation = 'relu',input_shape= (32,32,3)),\n",
    "    layers.MaxPool2D((2,2)),\n",
    "    layers.Conv2D(filters = 40 , kernel_size = (3,3),activation = 'relu'),\n",
    "    layers.MaxPool2D((2,2)),\n",
    "    layers.Conv2D(filters = 20 , kernel_size = (3,3),activation = 'relu'),\n",
    "    layers.MaxPool2D((2,2)),\n",
    "    \n",
    "    layers.Flatten(),\n",
    "    layers.Dense(10,activation = 'relu'),\n",
    "    layers.Dense(2,activation = 'sigmoid'),\n",
    "                         ])\n",
    "\n",
    "model.compile(\n",
    "    optimizer = 'adam',\n",
    "    loss= 'sparse_categorical_crossentropy',\n",
    "    metrics = ['accuracy']\n",
    "             )\n",
    "\n",
    "model.fit(X_train,y_train, epochs = 5)\n"
   ]
  },
  {
   "cell_type": "code",
   "execution_count": 25,
   "id": "31250d19",
   "metadata": {
    "execution": {
     "iopub.execute_input": "2024-01-02T16:50:51.109001Z",
     "iopub.status.busy": "2024-01-02T16:50:51.108275Z",
     "iopub.status.idle": "2024-01-02T16:50:57.907831Z",
     "shell.execute_reply": "2024-01-02T16:50:57.906724Z"
    },
    "papermill": {
     "duration": 7.532177,
     "end_time": "2024-01-02T16:50:57.910179",
     "exception": false,
     "start_time": "2024-01-02T16:50:50.378002",
     "status": "completed"
    },
    "tags": []
   },
   "outputs": [
    {
     "name": "stdout",
     "output_type": "stream",
     "text": [
      "625/625 [==============================] - 6s 10ms/step - loss: 0.1956 - accuracy: 0.9209\n"
     ]
    },
    {
     "data": {
      "text/plain": [
       "[0.1955702155828476, 0.9208999872207642]"
      ]
     },
     "execution_count": 25,
     "metadata": {},
     "output_type": "execute_result"
    }
   ],
   "source": [
    "model.evaluate(X_test,y_test)"
   ]
  },
  {
   "cell_type": "code",
   "execution_count": 26,
   "id": "d9f14a5f",
   "metadata": {
    "execution": {
     "iopub.execute_input": "2024-01-02T16:50:59.471624Z",
     "iopub.status.busy": "2024-01-02T16:50:59.470620Z",
     "iopub.status.idle": "2024-01-02T16:51:06.285283Z",
     "shell.execute_reply": "2024-01-02T16:51:06.284314Z"
    },
    "papermill": {
     "duration": 7.623677,
     "end_time": "2024-01-02T16:51:06.287906",
     "exception": false,
     "start_time": "2024-01-02T16:50:58.664229",
     "status": "completed"
    },
    "tags": []
   },
   "outputs": [
    {
     "name": "stdout",
     "output_type": "stream",
     "text": [
      "625/625 [==============================] - 6s 10ms/step\n"
     ]
    }
   ],
   "source": [
    "y_pred  = model.predict(X_test)"
   ]
  },
  {
   "cell_type": "code",
   "execution_count": 27,
   "id": "fd2eb923",
   "metadata": {
    "execution": {
     "iopub.execute_input": "2024-01-02T16:51:07.776519Z",
     "iopub.status.busy": "2024-01-02T16:51:07.775843Z",
     "iopub.status.idle": "2024-01-02T16:51:07.866589Z",
     "shell.execute_reply": "2024-01-02T16:51:07.865706Z"
    },
    "papermill": {
     "duration": 0.836402,
     "end_time": "2024-01-02T16:51:07.868751",
     "exception": false,
     "start_time": "2024-01-02T16:51:07.032349",
     "status": "completed"
    },
    "tags": []
   },
   "outputs": [
    {
     "data": {
      "text/plain": [
       "[0, 0, 0, 0, 0]"
      ]
     },
     "execution_count": 27,
     "metadata": {},
     "output_type": "execute_result"
    }
   ],
   "source": [
    "y_pred_label = [np.argmax(i) for i in y_pred]\n",
    "y_pred_label[:5]"
   ]
  },
  {
   "cell_type": "markdown",
   "id": "809ab555",
   "metadata": {
    "papermill": {
     "duration": 0.751498,
     "end_time": "2024-01-02T16:51:09.452558",
     "exception": false,
     "start_time": "2024-01-02T16:51:08.701060",
     "status": "completed"
    },
    "tags": []
   },
   "source": [
    "## Classification Report"
   ]
  },
  {
   "cell_type": "code",
   "execution_count": 28,
   "id": "47081504",
   "metadata": {
    "execution": {
     "iopub.execute_input": "2024-01-02T16:51:10.942818Z",
     "iopub.status.busy": "2024-01-02T16:51:10.942139Z",
     "iopub.status.idle": "2024-01-02T16:51:11.900933Z",
     "shell.execute_reply": "2024-01-02T16:51:11.899501Z"
    },
    "papermill": {
     "duration": 1.70587,
     "end_time": "2024-01-02T16:51:11.903576",
     "exception": false,
     "start_time": "2024-01-02T16:51:10.197706",
     "status": "completed"
    },
    "tags": []
   },
   "outputs": [
    {
     "name": "stdout",
     "output_type": "stream",
     "text": [
      "Classification Report     : \n",
      "\n",
      "\n",
      "               precision    recall  f1-score   support\n",
      "\n",
      "           0       0.92      0.92      0.92     10000\n",
      "           1       0.92      0.92      0.92     10000\n",
      "\n",
      "    accuracy                           0.92     20000\n",
      "   macro avg       0.92      0.92      0.92     20000\n",
      "weighted avg       0.92      0.92      0.92     20000\n",
      "\n"
     ]
    }
   ],
   "source": [
    "from sklearn.metrics import classification_report\n",
    "\n",
    "print('Classification Report     : \\n\\n\\n' , classification_report(y_test,y_pred_label))"
   ]
  },
  {
   "cell_type": "markdown",
   "id": "4f0f3cd9",
   "metadata": {
    "papermill": {
     "duration": 0.739136,
     "end_time": "2024-01-02T16:51:13.458816",
     "exception": false,
     "start_time": "2024-01-02T16:51:12.719680",
     "status": "completed"
    },
    "tags": []
   },
   "source": [
    "## Confusion Matrix "
   ]
  },
  {
   "cell_type": "code",
   "execution_count": 29,
   "id": "2101f54b",
   "metadata": {
    "execution": {
     "iopub.execute_input": "2024-01-02T16:51:15.016441Z",
     "iopub.status.busy": "2024-01-02T16:51:15.015727Z",
     "iopub.status.idle": "2024-01-02T16:51:15.031103Z",
     "shell.execute_reply": "2024-01-02T16:51:15.029937Z"
    },
    "papermill": {
     "duration": 0.762891,
     "end_time": "2024-01-02T16:51:15.033786",
     "exception": false,
     "start_time": "2024-01-02T16:51:14.270895",
     "status": "completed"
    },
    "tags": []
   },
   "outputs": [],
   "source": [
    "from sklearn.metrics import confusion_matrix\n",
    "\n",
    "cm = confusion_matrix(y_test , y_pred_label)"
   ]
  },
  {
   "cell_type": "code",
   "execution_count": 30,
   "id": "c30555bc",
   "metadata": {
    "execution": {
     "iopub.execute_input": "2024-01-02T16:51:16.524320Z",
     "iopub.status.busy": "2024-01-02T16:51:16.523914Z",
     "iopub.status.idle": "2024-01-02T16:51:17.500440Z",
     "shell.execute_reply": "2024-01-02T16:51:17.499598Z"
    },
    "papermill": {
     "duration": 1.724243,
     "end_time": "2024-01-02T16:51:17.502506",
     "exception": false,
     "start_time": "2024-01-02T16:51:15.778263",
     "status": "completed"
    },
    "scrolled": true,
    "tags": []
   },
   "outputs": [
    {
     "data": {
      "image/png": "[encoded data removed]",
      "text/plain": [
       "<Figure size 400x400 with 2 Axes>"
      ]
     },
     "metadata": {},
     "output_type": "display_data"
    }
   ],
   "source": [
    "import matplotlib.pyplot as plt\n",
    "import seaborn as sn\n",
    "\n",
    "\n",
    "plt.figure(figsize=(4,4), facecolor= 'pink', edgecolor='brown')\n",
    "sn.heatmap(cm , annot= True, fmt=\"d\")\n",
    "plt.xlabel('Prediction', fontdict= {'family':'fantasy','color':'black','size':15})\n",
    "plt.ylabel('Truth', fontdict= {'family':'fantasy','color':'black','size':15})\n",
    "plt.title('Confusion Matrix',fontdict= {'family':'fantasy','color':'red','size':20})\n",
    "plt.show()"
   ]
  },
  {
   "cell_type": "code",
   "execution_count": 31,
   "id": "1f3b7d8a",
   "metadata": {
    "execution": {
     "iopub.execute_input": "2024-01-02T16:51:20.709578Z",
     "iopub.status.busy": "2024-01-02T16:51:20.709148Z",
     "iopub.status.idle": "2024-01-02T16:51:20.759627Z",
     "shell.execute_reply": "2024-01-02T16:51:20.758504Z"
    },
    "papermill": {
     "duration": 0.865491,
     "end_time": "2024-01-02T16:51:20.762374",
     "exception": false,
     "start_time": "2024-01-02T16:51:19.896883",
     "status": "completed"
    },
    "tags": []
   },
   "outputs": [],
   "source": [
    "# 2 Jan 2024 - v1\n",
    "model.save('modelv1_92per.h5')"
   ]
  },
  {
   "cell_type": "code",
   "execution_count": null,
   "id": "bbd722f5",
   "metadata": {
    "papermill": {
     "duration": 0.744364,
     "end_time": "2024-01-02T16:51:22.249788",
     "exception": false,
     "start_time": "2024-01-02T16:51:21.505424",
     "status": "completed"
    },
    "tags": []
   },
   "outputs": [],
   "source": []
  }
 ],
 "metadata": {
  "kaggle": {
   "accelerator": "none",
   "dataSources": [
    {
     "datasetId": 3041726,
     "sourceId": 5256696,
     "sourceType": "datasetVersion"
    }
   ],
   "dockerImageVersionId": 30474,
   "isGpuEnabled": false,
   "isInternetEnabled": true,
   "language": "python",
   "sourceType": "notebook"
  },
  "kernelspec": {
   "display_name": "Python 3 (ipykernel)",
   "language": "python",
   "name": "python3"
  },
  "language_info": {
   "codemirror_mode": {
    "name": "ipython",
    "version": 3
   },
   "file_extension": ".py",
   "mimetype": "text/x-python",
   "name": "python",
   "nbconvert_exporter": "python",
   "pygments_lexer": "ipython3",
   "version": "3.9.13"
  },
  "papermill": {
   "default_parameters": {},
   "duration": 1644.338477,
   "end_time": "2024-01-02T16:51:25.943547",
   "environment_variables": {},
   "exception": null,
   "input_path": "__notebook__.ipynb",
   "output_path": "__notebook__.ipynb",
   "parameters": {},
   "start_time": "2024-01-02T16:24:01.605070",
   "version": "2.4.0"
  }
 },
 "nbformat": 4,
 "nbformat_minor": 5
}
